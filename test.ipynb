{
 "cells": [
  {
   "cell_type": "code",
   "execution_count": null,
   "metadata": {},
   "outputs": [
    {
     "ename": "",
     "evalue": "",
     "output_type": "error",
     "traceback": [
      "\u001b[1;31mFailed to start the Kernel. \n",
      "\u001b[1;31mTraceback (most recent call last):\n",
      "\u001b[1;31m  File \"/home/iana/.vscode/extensions/ms-toolsai.jupyter-2022.9.1303220346/pythonFiles/vscode_datascience_helpers/jupyter_daemon.py\", line 158, in _start_notebook\n",
      "\u001b[1;31m    from notebook import notebookapp as app\n",
      "\u001b[1;31m  File \"/usr/lib/python3/dist-packages/notebook/notebookapp.py\", line 43, in <module>\n",
      "\u001b[1;31m    from jinja2 import Environment, FileSystemLoader\n",
      "\u001b[1;31m  File \"/usr/lib/python3/dist-packages/jinja2/__init__.py\", line 33, in <module>\n",
      "\u001b[1;31m    from jinja2.environment import Environment, Template\n",
      "\u001b[1;31m  File \"/usr/lib/python3/dist-packages/jinja2/environment.py\", line 15, in <module>\n",
      "\u001b[1;31m    from jinja2 import nodes\n",
      "\u001b[1;31m  File \"/usr/lib/python3/dist-packages/jinja2/nodes.py\", line 23, in <module>\n",
      "\u001b[1;31m    from jinja2.utils import Markup\n",
      "\u001b[1;31m  File \"/usr/lib/python3/dist-packages/jinja2/utils.py\", line 656, in <module>\n",
      "\u001b[1;31m    from markupsafe import Markup, escape, soft_unicode\n",
      "\u001b[1;31mImportError: cannot import name 'soft_unicode' from 'markupsafe' (/home/iana/.local/lib/python3.8/site-packages/markupsafe/__init__.py)\n",
      "\u001b[1;31m\n",
      "\u001b[1;31mDuring handling of the above exception, another exception occurred:\n",
      "\u001b[1;31m\n",
      "\u001b[1;31mTraceback (most recent call last):\n",
      "\u001b[1;31m  File \"/home/iana/.vscode/extensions/ms-toolsai.jupyter-2022.9.1303220346/pythonFiles/vscode_datascience_helpers/daemon/daemon_python.py\", line 54, in _decorator\n",
      "\u001b[1;31m    return func(self, *args, **kwargs)\n",
      "\u001b[1;31m  File \"/home/iana/.vscode/extensions/ms-toolsai.jupyter-2022.9.1303220346/pythonFiles/vscode_datascience_helpers/jupyter_daemon.py\", line 111, in m_exec_module_observable\n",
      "\u001b[1;31m    self._start_notebook(args, cwd, env)\n",
      "\u001b[1;31m  File \"/home/iana/.vscode/extensions/ms-toolsai.jupyter-2022.9.1303220346/pythonFiles/vscode_datascience_helpers/jupyter_daemon.py\", line 160, in _start_notebook\n",
      "\u001b[1;31m    from notebook import app as app\n",
      "\u001b[1;31mImportError: cannot import name 'app' from 'notebook' (/usr/lib/python3/dist-packages/notebook/__init__.py)\n",
      "\u001b[1;31m\n",
      "\u001b[1;31mFailed to run jupyter as observable with args notebook --no-browser --notebook-dir=\"/home/iana/ros2_ws/src/realsense_ros2\" --config=/tmp/1555c04e-5fa9-4c42-8cd5-78093fc5978e/jupyter_notebook_config.py --NotebookApp.iopub_data_rate_limit=10000000000.0. \n",
      "\u001b[1;31mView Jupyter <a href='command:jupyter.viewOutput'>log</a> for further details."
     ]
    }
   ],
   "source": [
    "import numpy as np\n"
   ]
  },
  {
   "cell_type": "code",
   "execution_count": null,
   "metadata": {},
   "outputs": [],
   "source": []
  }
 ],
 "metadata": {
  "kernelspec": {
   "display_name": "Python 3.8.10 64-bit",
   "language": "python",
   "name": "python3"
  },
  "language_info": {
   "name": "python",
   "version": "3.8.10"
  },
  "orig_nbformat": 4,
  "vscode": {
   "interpreter": {
    "hash": "767d51c1340bd893661ea55ea3124f6de3c7a262a8b4abca0554b478b1e2ff90"
   }
  }
 },
 "nbformat": 4,
 "nbformat_minor": 2
}
